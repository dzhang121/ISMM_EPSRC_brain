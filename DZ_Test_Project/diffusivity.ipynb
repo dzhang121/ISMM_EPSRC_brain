{
 "cells": [
  {
   "cell_type": "markdown",
   "id": "6b088189",
   "metadata": {},
   "source": [
    "# Diffusivity measurement\n",
    "\n",
    "In this notebook, we use 1d diffusion experiment to measure the diffusivity of methylene blue in a gel.\n",
    "\n",
    "First we import Python modules:"
   ]
  },
  {
   "cell_type": "code",
   "execution_count": 1,
   "id": "28f78f47",
   "metadata": {},
   "outputs": [],
   "source": [
    "# Python imports\n",
    "import os\n",
    "from natsort import natsorted, ns\n",
    "\n",
    "import numpy as np\n",
    "\n",
    "from skimage import io\n",
    "from skimage.util import img_as_float\n",
    "\n",
    "%matplotlib inline\n",
    "import matplotlib.pyplot as plt\n",
    "import matplotlib.patches as patches\n",
    "\n",
    "from ipywidgets import interactive, IntRangeSlider, IntSlider\n",
    "\n",
    "from tqdm.notebook import tqdm\n",
    "\n",
    "from scipy.special import erfc\n",
    "from scipy.optimize import curve_fit"
   ]
  },
  {
   "cell_type": "markdown",
   "id": "78adf500",
   "metadata": {},
   "source": [
    "Then we define parameters for getting the images:"
   ]
  },
  {
   "cell_type": "code",
   "execution_count": 2,
   "id": "f1246f10",
   "metadata": {},
   "outputs": [],
   "source": [
    "# folder containing the images. This should be the relative path from the python\n",
    "# script.\n",
    "folder = 'images'\n",
    "\n",
    "# Reference image Python index (for example, if reference image is the first of the stack,\n",
    "# leave as 0)\n",
    "ref_index = 0\n",
    "\n",
    "# Last image to take (None to take the last image)\n",
    "ref_end = None\n",
    "\n",
    "# Number of images to skip (use non-zero for testing or to speed-up processing)\n",
    "skip = 0"
   ]
  },
  {
   "cell_type": "markdown",
   "id": "b3f3fc6a",
   "metadata": {},
   "source": [
    "Finally we have the physics:"
   ]
  },
  {
   "cell_type": "code",
   "execution_count": 3,
   "id": "9d1e88c6",
   "metadata": {},
   "outputs": [],
   "source": [
    "# pixels per cm\n",
    "pxpcm = 367\n",
    "\n",
    "# Time step between images (min)\n",
    "dt = 1.\n",
    "\n",
    "# Molar extinction coefficient (cm^-1 L/mol)\n",
    "epsilon = 2900.\n",
    "\n",
    "# Methylene blue molar mass (g mol^-1)\n",
    "M = 319.85\n",
    "\n",
    "# Optical path length in cuvette (cm)\n",
    "L = 1."
   ]
  },
  {
   "cell_type": "markdown",
   "id": "7edb0792",
   "metadata": {},
   "source": [
    "Let's see how many images we can import:"
   ]
  },
  {
   "cell_type": "code",
   "execution_count": 4,
   "id": "a7f116a7",
   "metadata": {},
   "outputs": [
    {
     "name": "stdout",
     "output_type": "stream",
     "text": [
      "Reference image name: Basler_acA1920-150um__40076601__20210625_111921978_2.tiff\n",
      "Number of images in stack: 719\n"
     ]
    }
   ],
   "source": [
    "# Get images names. 'natsorted' function will sort the names by 'natural' order,\n",
    "# for example if there is a suffix with image number or timestamp.\n",
    "list_files = natsorted(os.listdir(folder))\n",
    "\n",
    "# Trim list\n",
    "list_files = list_files[ref_index:ref_end:skip+1]\n",
    "print(f\"Reference image name: {list_files[0]}\")\n",
    "print(f\"Number of images in stack: {len(list_files)}\")"
   ]
  },
  {
   "cell_type": "markdown",
   "id": "fb0d27ca",
   "metadata": {},
   "source": [
    "## Select the area of interest\n",
    "\n",
    "Use slider handles or select and overwrite values next to each the slider."
   ]
  },
  {
   "cell_type": "code",
   "execution_count": 5,
   "id": "b53a8b4e",
   "metadata": {},
   "outputs": [
    {
     "data": {
      "application/vnd.jupyter.widget-view+json": {
       "model_id": "1d29b9610b70467b8079bec7f38abe0a",
       "version_major": 2,
       "version_minor": 0
      },
      "text/plain": [
       "interactive(children=(IntRangeSlider(value=(1080, 1140), continuous_update=False, description='horizontal', ma…"
      ]
     },
     "metadata": {},
     "output_type": "display_data"
    }
   ],
   "source": [
    "# Cropping\n",
    "im0 = img_as_float(io.imread(f\"{folder}/{list_files[0]}\"))\n",
    "y_max, x_max = im0.shape\n",
    "def crop(horizontal,vertical):\n",
    "    im = im0[vertical[0]:vertical[1],horizontal[0]:horizontal[1]]\n",
    "    \n",
    "    rect = patches.Rectangle([horizontal[0], vertical[0]], horizontal[1]-horizontal[0], vertical[1]-vertical[0], linewidth=1, edgecolor='r', facecolor='none')\n",
    "    \n",
    "    plt.rcParams[\"figure.figsize\"] = (15,10)\n",
    "    figure, ax = plt.subplots(ncols=2)\n",
    "        \n",
    "    ax[0].imshow(im0, cmap='gray')\n",
    "    ax[0].add_patch(rect)\n",
    "    ax[0].set_title('Original image')\n",
    "\n",
    "    ax[1].imshow(im, cmap='gray')\n",
    "    ax[1].set_title('Cropped image')\n",
    "    plt.show()\n",
    "    \n",
    "    return im\n",
    "\n",
    "# Check for previously used values\n",
    "import pickle\n",
    "try:\n",
    "    cuvette = pickle.load(open(\".cuvette.pickle\", \"rb\" ))\n",
    "except FileNotFoundError:\n",
    "    cuvette = {'horizontal': (0, x_max), 'vertical': (0, y_max)}\n",
    "\n",
    "w = interactive(crop, horizontal=IntRangeSlider(value=[cuvette['horizontal'][0], cuvette['horizontal'][1]],min=0,max=x_max, continuous_update=False),\n",
    "                       vertical=IntRangeSlider(value=[cuvette['vertical'][0], cuvette['vertical'][1]],min=0,max=y_max, continuous_update=False))\n",
    "w"
   ]
  },
  {
   "cell_type": "code",
   "execution_count": 6,
   "id": "755453ff",
   "metadata": {},
   "outputs": [],
   "source": [
    "# Store selected value between runs\n",
    "pickle.dump(w.kwargs, open(\".cuvette.pickle\", \"wb\"))"
   ]
  },
  {
   "cell_type": "markdown",
   "id": "4a9ef7c6",
   "metadata": {},
   "source": [
    "## Load images\n",
    "\n",
    "Images of the stack will be loaded, cropped and stored in an array of images for further processing."
   ]
  },
  {
   "cell_type": "code",
   "execution_count": 7,
   "id": "ea893606",
   "metadata": {},
   "outputs": [
    {
     "data": {
      "application/vnd.jupyter.widget-view+json": {
       "model_id": "c30ed6623fbf482d966f9cbe4a9ba0f6",
       "version_major": 2,
       "version_minor": 0
      },
      "text/plain": [
       "  0%|          | 0/719 [00:00<?, ?it/s]"
      ]
     },
     "metadata": {},
     "output_type": "display_data"
    }
   ],
   "source": [
    "stack = np.empty((len(list_files), *w.result.shape))\n",
    "\n",
    "for i, name in tqdm(enumerate(list_files), total=len(list_files)):\n",
    "\n",
    "    # Load image as matrix of floats, values in [0,1]\n",
    "    im = img_as_float(io.imread(f\"{folder}/{name}\"))\n",
    "    # Crop and store\n",
    "    stack[i] = im[w.kwargs['vertical'][0]:w.kwargs['vertical'][1],w.kwargs['horizontal'][0]:w.kwargs['horizontal'][1]]"
   ]
  },
  {
   "cell_type": "markdown",
   "id": "bf1b6042",
   "metadata": {},
   "source": [
    "## Compute absorbance and concentration\n",
    "\n",
    "We start with defining the absorbance and 'repare' outliers."
   ]
  },
  {
   "cell_type": "code",
   "execution_count": 8,
   "id": "c8d25181",
   "metadata": {},
   "outputs": [],
   "source": [
    "A = -np.log10(stack/stack[0])\n",
    "A[np.isnan(A)] = 0.\n",
    "A[A<0] = 0."
   ]
  },
  {
   "cell_type": "markdown",
   "id": "be1ace17",
   "metadata": {},
   "source": [
    "We compute the average along the horizontal axis, and convert it to concentration using Beer-Lambert's law:"
   ]
  },
  {
   "cell_type": "code",
   "execution_count": 9,
   "id": "ee93ee8a",
   "metadata": {},
   "outputs": [],
   "source": [
    "A_avg = np.average(A, axis=2)\n",
    "c = M*A_avg/epsilon/L              # in mg/mL"
   ]
  },
  {
   "cell_type": "markdown",
   "id": "e822ff82",
   "metadata": {},
   "source": [
    "Let's inspect the result:"
   ]
  },
  {
   "cell_type": "code",
   "execution_count": 10,
   "id": "51079c11",
   "metadata": {},
   "outputs": [
    {
     "data": {
      "application/vnd.jupyter.widget-view+json": {
       "model_id": "f562fd01a3654cabb4afd823a3cdc849",
       "version_major": 2,
       "version_minor": 0
      },
      "text/plain": [
       "interactive(children=(IntSlider(value=0, continuous_update=False, description='time', max=718), Output()), _do…"
      ]
     },
     "metadata": {},
     "output_type": "display_data"
    }
   ],
   "source": [
    "c_max = 0.1\n",
    "x = np.arange(len(c[0]))/pxpcm     # in cm\n",
    "\n",
    "def inspect(time):\n",
    "    plt.rcParams[\"figure.figsize\"] = (15,5)\n",
    "    plt.plot(x, c[time])\n",
    "    plt.ylim(0, c_max)\n",
    "    plt.xlabel('x (cm)')\n",
    "    plt.ylabel('c (mg/mL)')\n",
    "    plt.show()\n",
    "    \n",
    "w2 = interactive(inspect, time=IntSlider(value=0,min=0,max=len(c)-1, continuous_update=False))\n",
    "w2"
   ]
  },
  {
   "cell_type": "markdown",
   "id": "07da0c4d",
   "metadata": {},
   "source": [
    "## Fit 1d diffusion model\n",
    "\n",
    "If diffusion from a constrained concentration at $x=0$ (*well-stirred* reservoir hypothesis), then the analytical solution is:\n",
    "$$\n",
    "c(x,t) = c_0 \\mathrm{erfc}\\left( \\frac{x}{\\sqrt{4 D t}} \\right)\n",
    "$$\n",
    "with $c_0=c(x=0)$, and $D$ is the diffusivity. We fit $\\sigma = \\sqrt{4 D t}$ independently in each profile:"
   ]
  },
  {
   "cell_type": "code",
   "execution_count": 11,
   "id": "0849c4fb",
   "metadata": {},
   "outputs": [
    {
     "data": {
      "application/vnd.jupyter.widget-view+json": {
       "model_id": "e6b962d7eb6c46e7ab7b7fdf1516585a",
       "version_major": 2,
       "version_minor": 0
      },
      "text/plain": [
       "  0%|          | 0/718 [00:00<?, ?it/s]"
      ]
     },
     "metadata": {},
     "output_type": "display_data"
    }
   ],
   "source": [
    "x = np.arange(len(c[0]))/pxpcm     # in cm\n",
    "c_0 = 0.07\n",
    "sigmas = np.empty(len(c)-1)\n",
    "\n",
    "for i in tqdm(range(1,len(c))):\n",
    "    sigmas[i-1], pcov = curve_fit(lambda x, sigma: c_0*erfc(x/sigma), x, c[i])"
   ]
  },
  {
   "cell_type": "markdown",
   "id": "83628e04",
   "metadata": {},
   "source": [
    "Let's inspect the result:"
   ]
  },
  {
   "cell_type": "code",
   "execution_count": 12,
   "id": "e43025b8",
   "metadata": {},
   "outputs": [
    {
     "data": {
      "image/png": "[encoded data removed]",
      "text/plain": [
       "<Figure size 1080x360 with 2 Axes>"
      ]
     },
     "metadata": {
      "needs_background": "light"
     },
     "output_type": "display_data"
    }
   ],
   "source": [
    "t = np.arange(1, len(c))*dt*(1+skip)\n",
    "Ds = sigmas**2/4/t/60   # in cm²/s\n",
    "\n",
    "figure, ax = plt.subplots(ncols=2)\n",
    "ax[0].plot(t, sigmas)\n",
    "ax[0].set_title('Scale of the concentration gradient')\n",
    "ax[0].set_xlabel('Time (min)')\n",
    "ax[0].set_ylabel('Scale (cm)')\n",
    "\n",
    "ax[1].plot(t, 1e6*Ds)\n",
    "ax[1].set_title('Effective Fickian diffusivity')\n",
    "ax[1].set_xlabel('Time (min)')\n",
    "ax[1].set_ylabel('D ($10^{-6}$ cm²/s)')\n",
    "\n",
    "plt.show()"
   ]
  },
  {
   "cell_type": "markdown",
   "id": "45afe69e",
   "metadata": {},
   "source": [
    "## Save results in text files"
   ]
  },
  {
   "cell_type": "code",
   "execution_count": 40,
   "id": "5840702c",
   "metadata": {},
   "outputs": [],
   "source": [
    "np.savetxt('results.txt', np.hstack((t[:, None], sigmas[:, None], Ds[:, None])), header='# time (min),  scale (cm), diffusivity (cm²/s)')"
   ]
  },
  {
   "cell_type": "code",
   "execution_count": null,
   "id": "cbf7fac3",
   "metadata": {},
   "outputs": [],
   "source": []
  }
 ],
 "metadata": {
  "kernelspec": {
   "display_name": "Python 3",
   "language": "python",
   "name": "python3"
  },
  "language_info": {
   "codemirror_mode": {
    "name": "ipython",
    "version": 3
   },
   "file_extension": ".py",
   "mimetype": "text/x-python",
   "name": "python",
   "nbconvert_exporter": "python",
   "pygments_lexer": "ipython3",
   "version": "3.7.8"
  }
 },
 "nbformat": 4,
 "nbformat_minor": 5
}
