{
 "cells": [
  {
   "cell_type": "markdown",
   "id": "87b960ec",
   "metadata": {},
   "source": [
    "# Capture\n",
    "\n",
    "## Pseudo 16 bit recording\n",
    "\n",
    "This script will record images form a pylon compatible 10-bit camera. At regular interval defined by `fpm` (frames par minute) it will collect 64 images and sum them to form one 16-bit image. The final effective resolution should be 13 bits according to the *oversampling-decimation* principle.\n",
    "\n",
    "Then the image is save in `folder`. The total number of frames to take is defined by `num_frames`.\n",
    "\n",
    "It is usefull to use Pylon software first to adjust the camera settings, and then close Pylon."
   ]
  },
  {
   "cell_type": "code",
   "execution_count": 1,
   "id": "bb2d754e",
   "metadata": {},
   "outputs": [],
   "source": [
    "import numpy as np\n",
    "import sched, time\n",
    "from datetime import date\n",
    "\n",
    "from skimage.io import imsave\n",
    "from skimage.util import img_as_uint\n",
    "from skimage import exposure\n",
    "\n",
    "%matplotlib inline\n",
    "import matplotlib.pyplot as plt\n",
    "from matplotlib import cm\n",
    "from ipywidgets import interactive, IntRangeSlider, IntSlider\n",
    "\n",
    "from pypylon import pylon"
   ]
  },
  {
   "cell_type": "code",
   "execution_count": 2,
   "id": "345d4b65",
   "metadata": {},
   "outputs": [],
   "source": [
    "# Folder (relative path from this script)\n",
    "folder = 'images'\n",
    "\n",
    "# Frame par minute\n",
    "fpm = 10\n",
    "\n",
    "# Number of frames to record\n",
    "num_frames = 10\n",
    "\n",
    "# Oversampling index (will average over 2**n_oversampling shots)\n",
    "# Recommanded value: 6 (will sum 64 images and the result in a 16-bit array)\n",
    "# Recommanded maximum: 12 (will average 4096 images, resulting in pseudo 16-bit image)\n",
    "n_oversampling = 6"
   ]
  },
  {
   "cell_type": "markdown",
   "id": "36b53553",
   "metadata": {},
   "source": [
    "## Open camera"
   ]
  },
  {
   "cell_type": "code",
   "execution_count": 3,
   "id": "c4906c8e",
   "metadata": {},
   "outputs": [],
   "source": [
    "camera = pylon.InstantCamera(pylon.TlFactory.GetInstance().CreateFirstDevice())\n",
    "camera.Open()"
   ]
  },
  {
   "cell_type": "code",
   "execution_count": 4,
   "id": "ced5e5d5",
   "metadata": {},
   "outputs": [],
   "source": [
    "def grap_pseudo16bit(n_oversampling):\n",
    "    \"\"\"Sum 2**n_oversampling images from the 10-bit camera and rescqle to obtain one pseudo-16-bit image.\"\"\"\n",
    "    img32 = np.zeros((camera.Height.GetValue(), camera.Width.GetValue()), dtype=np.uint32)\n",
    "    \n",
    "    # Take images\n",
    "    camera.StartGrabbingMax(2**n_oversampling)\n",
    "    \n",
    "    while camera.IsGrabbing():\n",
    "        grabResult = camera.RetrieveResult(5000, pylon.TimeoutHandling_ThrowException)\n",
    "\n",
    "        if grabResult.GrabSucceeded():\n",
    "            # Access the image data.\n",
    "            img32 += grabResult.Array\n",
    "\n",
    "        grabResult.Release()\n",
    "    # Rescale to uint16\n",
    "    if n_oversampling < 6:\n",
    "        # multiply by 2**(6-n_oversamp)\n",
    "        img16 = np.left_shift(img32, 6-n_oversampling).astype(np.uint16)\n",
    "    elif n_oversampling > 6:\n",
    "        # devide by 2**(n_oversamp-6)\n",
    "        img16 = np.right_shift(img32, n_oversampling-6).astype(np.uint16)\n",
    "    else:\n",
    "        # Just cast to 16 bits\n",
    "        img16 = img32.astype(np.uint16)\n",
    "    \n",
    "    return img16"
   ]
  },
  {
   "cell_type": "markdown",
   "id": "d435c022",
   "metadata": {},
   "source": [
    "## Adjust settings"
   ]
  },
  {
   "cell_type": "code",
   "execution_count": 6,
   "id": "6fb55437",
   "metadata": {},
   "outputs": [
    {
     "data": {
      "application/vnd.jupyter.widget-view+json": {
       "model_id": "bab46c90d3f348a9972a0d433a86ebb0",
       "version_major": 2,
       "version_minor": 0
      },
      "text/plain": [
       "interactive(children=(IntSlider(value=8000, continuous_update=False, description='exposure', max=12000, min=50…"
      ]
     },
     "metadata": {},
     "output_type": "display_data"
    }
   ],
   "source": [
    "# Initial value\n",
    "init_value = int(camera.ExposureTime.GetValue())\n",
    "# Emulation\n",
    "#init_value = 10_000\n",
    "\n",
    "def adjust(exposure):\n",
    "    # Set new exposure\n",
    "    camera.ExposureTime.SetValue(float(exposure))\n",
    "    \n",
    "    # Get image\n",
    "    img = grap_pseudo16bit(n_oversampling)\n",
    "    \n",
    "    # Emulation\n",
    "    #img = np.random.randint(0,1023,size=(1000,1000), dtype=np.uint16)\n",
    "    \n",
    "    plt.rcParams[\"figure.figsize\"] = (15,15)\n",
    "    cmap = cm.get_cmap(\"gray\").copy()\n",
    "    cmap.set_over('red')\n",
    "    \n",
    "    figure, ax = plt.subplots(nrows=2)\n",
    "    \n",
    "    ax[0].imshow(img, cmap=cmap, vmin=0, vmax=2**16-2**6-1)\n",
    "    \n",
    "    ax[1].hist(img.flatten(), bins=256, log=True)\n",
    "    plt.show()\n",
    "    \n",
    "    result = {'exposure': exposure,\n",
    "             'width': 0,\n",
    "             'height': 0}\n",
    "    \n",
    "    return result\n",
    "    \n",
    "w = interactive(adjust, exposure=IntSlider(value=init_value,min=5000,max=12000, continuous_update=False))\n",
    "w"
   ]
  },
  {
   "cell_type": "markdown",
   "id": "ca576ac3",
   "metadata": {},
   "source": [
    "## Capture frames"
   ]
  },
  {
   "cell_type": "code",
   "execution_count": 7,
   "id": "18dcae2d",
   "metadata": {},
   "outputs": [],
   "source": [
    "def capture(frame_number=0):\n",
    "    img = grap_pseudo16bit(n_oversampling)\n",
    "    file_name = f'{folder}/{date.today().isoformat()}_{frame_number:04d}.tiff'\n",
    "    imsave(file_name, img)\n",
    "    \n",
    "    print(f'Frame number {frame_number}')"
   ]
  },
  {
   "cell_type": "code",
   "execution_count": 8,
   "id": "3cb1bf83",
   "metadata": {},
   "outputs": [
    {
     "name": "stdout",
     "output_type": "stream",
     "text": [
      "Frame number 0\n",
      "Frame number 1\n",
      "Frame number 2\n",
      "Frame number 3\n",
      "Frame number 4\n",
      "Frame number 5\n",
      "Frame number 6\n",
      "Frame number 7\n",
      "Frame number 8\n",
      "Frame number 9\n"
     ]
    }
   ],
   "source": [
    "# Schedule capture and run immediately\n",
    "s = sched.scheduler(time.time, time.sleep)\n",
    "\n",
    "for i in range(num_frames):\n",
    "    s.enter(i*60./fpm, 1, capture, kwargs={'frame_number':i})\n",
    "    \n",
    "s.run()"
   ]
  },
  {
   "cell_type": "code",
   "execution_count": 9,
   "id": "166232b2",
   "metadata": {},
   "outputs": [
    {
     "data": {
      "text/plain": [
       "0.02635325970593146"
      ]
     },
     "execution_count": 9,
     "metadata": {},
     "output_type": "execute_result"
    }
   ],
   "source": [
    "np.sqrt(4*60e-6/np.pi/0.11)"
   ]
  },
  {
   "cell_type": "code",
   "execution_count": 10,
   "id": "05da7277",
   "metadata": {},
   "outputs": [
    {
     "data": {
      "text/plain": [
       "18.0"
      ]
     },
     "execution_count": 10,
     "metadata": {},
     "output_type": "execute_result"
    }
   ],
   "source": [
    "0.3*60"
   ]
  },
  {
   "cell_type": "code",
   "execution_count": null,
   "id": "c0cf5119",
   "metadata": {},
   "outputs": [],
   "source": []
  },
  {
   "cell_type": "code",
   "execution_count": null,
   "id": "d10cf353",
   "metadata": {},
   "outputs": [],
   "source": []
  }
 ],
 "metadata": {
  "kernelspec": {
   "display_name": "Python 3 (ipykernel)",
   "language": "python",
   "name": "python3"
  },
  "language_info": {
   "codemirror_mode": {
    "name": "ipython",
    "version": 3
   },
   "file_extension": ".py",
   "mimetype": "text/x-python",
   "name": "python",
   "nbconvert_exporter": "python",
   "pygments_lexer": "ipython3",
   "version": "3.9.5"
  }
 },
 "nbformat": 4,
 "nbformat_minor": 5
}
